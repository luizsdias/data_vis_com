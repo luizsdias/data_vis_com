{
  "nbformat": 4,
  "nbformat_minor": 0,
  "metadata": {
    "colab": {
      "name": "Data_Visualization_CA.ipynb",
      "provenance": [],
      "collapsed_sections": [],
      "authorship_tag": "ABX9TyNZiBcN2IfDut2Vt0PuOBnq",
      "include_colab_link": true
    },
    "kernelspec": {
      "name": "python3",
      "display_name": "Python 3"
    },
    "language_info": {
      "name": "python"
    }
  },
  "cells": [
    {
      "cell_type": "markdown",
      "metadata": {
        "id": "view-in-github",
        "colab_type": "text"
      },
      "source": [
        "<a href=\"https://colab.research.google.com/github/luizsdias/data_vis_com/blob/CA1/Data_Visualization_CA.ipynb\" target=\"_parent\"><img src=\"https://colab.research.google.com/assets/colab-badge.svg\" alt=\"Open In Colab\"/></a>"
      ]
    },
    {
      "cell_type": "markdown",
      "metadata": {
        "id": "HYyXOwJ-0SKx"
      },
      "source": [
        "## Data Visualization CA1\n",
        "##### David Silva | Student number: 0000000\n",
        "##### Luiz Dias | Student number: 2018429"
      ]
    },
    {
      "cell_type": "code",
      "metadata": {
        "id": "QH0glMAh0vqG"
      },
      "source": [
        "import pandas as pd\n",
        "import numpy as np\n",
        "import matplotlib as mpl"
      ],
      "execution_count": 2,
      "outputs": []
    },
    {
      "cell_type": "code",
      "metadata": {
        "id": "SBqqag0K4DZl"
      },
      "source": [
        "df = pd.read_csv(\"https://corgis-edu.github.io/corgis/datasets/csv/cars/cars.csv\")"
      ],
      "execution_count": 3,
      "outputs": []
    },
    {
      "cell_type": "code",
      "metadata": {
        "colab": {
          "base_uri": "https://localhost:8080/",
          "height": 417
        },
        "id": "PgamROq352gG",
        "outputId": "57c919d0-7b79-4b5a-e34a-7faa7faa015e"
      },
      "source": [
        "df.head()"
      ],
      "execution_count": 4,
      "outputs": [
        {
          "output_type": "execute_result",
          "data": {
            "text/html": [
              "<div>\n",
              "<style scoped>\n",
              "    .dataframe tbody tr th:only-of-type {\n",
              "        vertical-align: middle;\n",
              "    }\n",
              "\n",
              "    .dataframe tbody tr th {\n",
              "        vertical-align: top;\n",
              "    }\n",
              "\n",
              "    .dataframe thead th {\n",
              "        text-align: right;\n",
              "    }\n",
              "</style>\n",
              "<table border=\"1\" class=\"dataframe\">\n",
              "  <thead>\n",
              "    <tr style=\"text-align: right;\">\n",
              "      <th></th>\n",
              "      <th>Dimensions.Height</th>\n",
              "      <th>Dimensions.Length</th>\n",
              "      <th>Dimensions.Width</th>\n",
              "      <th>Engine Information.Driveline</th>\n",
              "      <th>Engine Information.Engine Type</th>\n",
              "      <th>Engine Information.Hybrid</th>\n",
              "      <th>Engine Information.Number of Forward Gears</th>\n",
              "      <th>Engine Information.Transmission</th>\n",
              "      <th>Fuel Information.City mpg</th>\n",
              "      <th>Fuel Information.Fuel Type</th>\n",
              "      <th>Fuel Information.Highway mpg</th>\n",
              "      <th>Identification.Classification</th>\n",
              "      <th>Identification.ID</th>\n",
              "      <th>Identification.Make</th>\n",
              "      <th>Identification.Model Year</th>\n",
              "      <th>Identification.Year</th>\n",
              "      <th>Engine Information.Engine Statistics.Horsepower</th>\n",
              "      <th>Engine Information.Engine Statistics.Torque</th>\n",
              "    </tr>\n",
              "  </thead>\n",
              "  <tbody>\n",
              "    <tr>\n",
              "      <th>0</th>\n",
              "      <td>140</td>\n",
              "      <td>143</td>\n",
              "      <td>202</td>\n",
              "      <td>All-wheel drive</td>\n",
              "      <td>Audi 3.2L 6 cylinder 250hp 236ft-lbs</td>\n",
              "      <td>True</td>\n",
              "      <td>6</td>\n",
              "      <td>6 Speed Automatic Select Shift</td>\n",
              "      <td>18</td>\n",
              "      <td>Gasoline</td>\n",
              "      <td>25</td>\n",
              "      <td>Automatic transmission</td>\n",
              "      <td>2009 Audi A3 3.2</td>\n",
              "      <td>Audi</td>\n",
              "      <td>2009 Audi A3</td>\n",
              "      <td>2009</td>\n",
              "      <td>250</td>\n",
              "      <td>236</td>\n",
              "    </tr>\n",
              "    <tr>\n",
              "      <th>1</th>\n",
              "      <td>140</td>\n",
              "      <td>143</td>\n",
              "      <td>202</td>\n",
              "      <td>Front-wheel drive</td>\n",
              "      <td>Audi 2.0L 4 cylinder 200 hp 207 ft-lbs Turbo</td>\n",
              "      <td>True</td>\n",
              "      <td>6</td>\n",
              "      <td>6 Speed Automatic Select Shift</td>\n",
              "      <td>22</td>\n",
              "      <td>Gasoline</td>\n",
              "      <td>28</td>\n",
              "      <td>Automatic transmission</td>\n",
              "      <td>2009 Audi A3 2.0 T AT</td>\n",
              "      <td>Audi</td>\n",
              "      <td>2009 Audi A3</td>\n",
              "      <td>2009</td>\n",
              "      <td>200</td>\n",
              "      <td>207</td>\n",
              "    </tr>\n",
              "    <tr>\n",
              "      <th>2</th>\n",
              "      <td>140</td>\n",
              "      <td>143</td>\n",
              "      <td>202</td>\n",
              "      <td>Front-wheel drive</td>\n",
              "      <td>Audi 2.0L 4 cylinder 200 hp 207 ft-lbs Turbo</td>\n",
              "      <td>True</td>\n",
              "      <td>6</td>\n",
              "      <td>6 Speed Manual</td>\n",
              "      <td>21</td>\n",
              "      <td>Gasoline</td>\n",
              "      <td>30</td>\n",
              "      <td>Manual transmission</td>\n",
              "      <td>2009 Audi A3 2.0 T</td>\n",
              "      <td>Audi</td>\n",
              "      <td>2009 Audi A3</td>\n",
              "      <td>2009</td>\n",
              "      <td>200</td>\n",
              "      <td>207</td>\n",
              "    </tr>\n",
              "    <tr>\n",
              "      <th>3</th>\n",
              "      <td>140</td>\n",
              "      <td>143</td>\n",
              "      <td>202</td>\n",
              "      <td>All-wheel drive</td>\n",
              "      <td>Audi 2.0L 4 cylinder 200 hp 207 ft-lbs Turbo</td>\n",
              "      <td>True</td>\n",
              "      <td>6</td>\n",
              "      <td>6 Speed Automatic Select Shift</td>\n",
              "      <td>21</td>\n",
              "      <td>Gasoline</td>\n",
              "      <td>28</td>\n",
              "      <td>Automatic transmission</td>\n",
              "      <td>2009 Audi A3 2.0 T Quattro</td>\n",
              "      <td>Audi</td>\n",
              "      <td>2009 Audi A3</td>\n",
              "      <td>2009</td>\n",
              "      <td>200</td>\n",
              "      <td>207</td>\n",
              "    </tr>\n",
              "    <tr>\n",
              "      <th>4</th>\n",
              "      <td>140</td>\n",
              "      <td>143</td>\n",
              "      <td>202</td>\n",
              "      <td>All-wheel drive</td>\n",
              "      <td>Audi 2.0L 4 cylinder 200 hp 207 ft-lbs Turbo</td>\n",
              "      <td>True</td>\n",
              "      <td>6</td>\n",
              "      <td>6 Speed Automatic Select Shift</td>\n",
              "      <td>21</td>\n",
              "      <td>Gasoline</td>\n",
              "      <td>28</td>\n",
              "      <td>Automatic transmission</td>\n",
              "      <td>2009 Audi A3 2.0 T Quattro</td>\n",
              "      <td>Audi</td>\n",
              "      <td>2009 Audi A3</td>\n",
              "      <td>2009</td>\n",
              "      <td>200</td>\n",
              "      <td>207</td>\n",
              "    </tr>\n",
              "  </tbody>\n",
              "</table>\n",
              "</div>"
            ],
            "text/plain": [
              "   Dimensions.Height  ...  Engine Information.Engine Statistics.Torque\n",
              "0                140  ...                                          236\n",
              "1                140  ...                                          207\n",
              "2                140  ...                                          207\n",
              "3                140  ...                                          207\n",
              "4                140  ...                                          207\n",
              "\n",
              "[5 rows x 18 columns]"
            ]
          },
          "metadata": {},
          "execution_count": 4
        }
      ]
    },
    {
      "cell_type": "code",
      "metadata": {
        "colab": {
          "base_uri": "https://localhost:8080/"
        },
        "id": "Xlvul_lf6FaQ",
        "outputId": "ed707bf4-8824-4988-e316-2d579e011188"
      },
      "source": [
        "df.count()"
      ],
      "execution_count": 5,
      "outputs": [
        {
          "output_type": "execute_result",
          "data": {
            "text/plain": [
              "Dimensions.Height                                  5076\n",
              "Dimensions.Length                                  5076\n",
              "Dimensions.Width                                   5076\n",
              "Engine Information.Driveline                       5076\n",
              "Engine Information.Engine Type                     5076\n",
              "Engine Information.Hybrid                          5076\n",
              "Engine Information.Number of Forward Gears         5076\n",
              "Engine Information.Transmission                    5076\n",
              "Fuel Information.City mpg                          5076\n",
              "Fuel Information.Fuel Type                         5076\n",
              "Fuel Information.Highway mpg                       5076\n",
              "Identification.Classification                      5076\n",
              "Identification.ID                                  5076\n",
              "Identification.Make                                5076\n",
              "Identification.Model Year                          5076\n",
              "Identification.Year                                5076\n",
              "Engine Information.Engine Statistics.Horsepower    5076\n",
              "Engine Information.Engine Statistics.Torque        5076\n",
              "dtype: int64"
            ]
          },
          "metadata": {},
          "execution_count": 5
        }
      ]
    },
    {
      "cell_type": "code",
      "metadata": {
        "colab": {
          "base_uri": "https://localhost:8080/",
          "height": 332
        },
        "id": "WqXVrKdlF1ID",
        "outputId": "8319d4cd-1bb4-493b-ca18-1b3363623505"
      },
      "source": [
        "df.iloc[1:10,[1,2,5]]"
      ],
      "execution_count": 42,
      "outputs": [
        {
          "output_type": "execute_result",
          "data": {
            "text/html": [
              "<div>\n",
              "<style scoped>\n",
              "    .dataframe tbody tr th:only-of-type {\n",
              "        vertical-align: middle;\n",
              "    }\n",
              "\n",
              "    .dataframe tbody tr th {\n",
              "        vertical-align: top;\n",
              "    }\n",
              "\n",
              "    .dataframe thead th {\n",
              "        text-align: right;\n",
              "    }\n",
              "</style>\n",
              "<table border=\"1\" class=\"dataframe\">\n",
              "  <thead>\n",
              "    <tr style=\"text-align: right;\">\n",
              "      <th></th>\n",
              "      <th>Dimensions.Length</th>\n",
              "      <th>Dimensions.Width</th>\n",
              "      <th>Engine Information.Hybrid</th>\n",
              "    </tr>\n",
              "  </thead>\n",
              "  <tbody>\n",
              "    <tr>\n",
              "      <th>1</th>\n",
              "      <td>143</td>\n",
              "      <td>202</td>\n",
              "      <td>True</td>\n",
              "    </tr>\n",
              "    <tr>\n",
              "      <th>2</th>\n",
              "      <td>143</td>\n",
              "      <td>202</td>\n",
              "      <td>True</td>\n",
              "    </tr>\n",
              "    <tr>\n",
              "      <th>3</th>\n",
              "      <td>143</td>\n",
              "      <td>202</td>\n",
              "      <td>True</td>\n",
              "    </tr>\n",
              "    <tr>\n",
              "      <th>4</th>\n",
              "      <td>143</td>\n",
              "      <td>202</td>\n",
              "      <td>True</td>\n",
              "    </tr>\n",
              "    <tr>\n",
              "      <th>5</th>\n",
              "      <td>17</td>\n",
              "      <td>62</td>\n",
              "      <td>True</td>\n",
              "    </tr>\n",
              "    <tr>\n",
              "      <th>6</th>\n",
              "      <td>17</td>\n",
              "      <td>62</td>\n",
              "      <td>True</td>\n",
              "    </tr>\n",
              "    <tr>\n",
              "      <th>7</th>\n",
              "      <td>221</td>\n",
              "      <td>191</td>\n",
              "      <td>True</td>\n",
              "    </tr>\n",
              "    <tr>\n",
              "      <th>8</th>\n",
              "      <td>221</td>\n",
              "      <td>191</td>\n",
              "      <td>True</td>\n",
              "    </tr>\n",
              "    <tr>\n",
              "      <th>9</th>\n",
              "      <td>96</td>\n",
              "      <td>34</td>\n",
              "      <td>True</td>\n",
              "    </tr>\n",
              "  </tbody>\n",
              "</table>\n",
              "</div>"
            ],
            "text/plain": [
              "   Dimensions.Length  Dimensions.Width  Engine Information.Hybrid\n",
              "1                143               202                       True\n",
              "2                143               202                       True\n",
              "3                143               202                       True\n",
              "4                143               202                       True\n",
              "5                 17                62                       True\n",
              "6                 17                62                       True\n",
              "7                221               191                       True\n",
              "8                221               191                       True\n",
              "9                 96                34                       True"
            ]
          },
          "metadata": {},
          "execution_count": 42
        }
      ]
    }
  ]
}